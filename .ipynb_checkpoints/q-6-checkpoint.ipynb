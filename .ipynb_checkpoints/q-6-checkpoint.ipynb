{
 "cells": [
  {
   "cell_type": "code",
   "execution_count": 1,
   "metadata": {},
   "outputs": [
    {
     "name": "stdout",
     "output_type": "stream",
     "text": [
      "updated List:  [10, 50, 20, 30, 40, 60, 50]\n"
     ]
    }
   ],
   "source": [
    "def repositionElement(inputList):\n",
    "    if len(inputList)>4:\n",
    "        element=inputList.pop(4)\n",
    "        inputList.insert(1,element)\n",
    "        inputList.append(element)\n",
    "    return inputList\n",
    "myList=[10,20,30,40,50,60]\n",
    "result=repositionElement(myList)\n",
    "print(\"updated List: \",result)"
   ]
  },
  {
   "cell_type": "code",
   "execution_count": null,
   "metadata": {},
   "outputs": [],
   "source": []
  }
 ],
 "metadata": {
  "kernelspec": {
   "display_name": "Python 3",
   "language": "python",
   "name": "python3"
  },
  "language_info": {
   "codemirror_mode": {
    "name": "ipython",
    "version": 3
   },
   "file_extension": ".py",
   "mimetype": "text/x-python",
   "name": "python",
   "nbconvert_exporter": "python",
   "pygments_lexer": "ipython3",
   "version": "3.7.6"
  }
 },
 "nbformat": 4,
 "nbformat_minor": 4
}
