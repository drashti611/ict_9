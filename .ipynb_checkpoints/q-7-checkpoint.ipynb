{
 "cells": [
  {
   "cell_type": "code",
   "execution_count": 1,
   "metadata": {},
   "outputs": [
    {
     "name": "stdout",
     "output_type": "stream",
     "text": [
      "3\n",
      "[3, 2, 1]\n",
      "[6, 5, 4]\n",
      "[9, 8, 7]\n",
      "Reversed and chunked List :  [[3, 2, 1], [6, 5, 4], [9, 8, 7]]\n"
     ]
    }
   ],
   "source": [
    "def reverseAndSlice(inputList):\n",
    "    length = len(inputList)\n",
    "    \n",
    "    if length % 3 != 0:\n",
    "        return \"List cannot be evenly divided into 3 equal chunks\"\n",
    "    \n",
    "    chunkSize = length // 3\n",
    "    print(chunkSize)\n",
    "    \n",
    "    chunk1 = inputList[0:chunkSize][::-1]\n",
    "    print(chunk1)\n",
    "    chunk2 = inputList[chunkSize:2*chunkSize][::-1]\n",
    "    print(chunk2)\n",
    "    chunk3 = inputList[2*chunkSize:][::-1]\n",
    "    print(chunk3)\n",
    "    \n",
    "    return [chunk1,chunk2,chunk3]\n",
    "\n",
    "myList = [1,2,3,4,5,6,7,8,9]\n",
    "result = reverseAndSlice(myList)\n",
    "print(\"Reversed and chunked List : \",result)"
   ]
  },
  {
   "cell_type": "code",
   "execution_count": null,
   "metadata": {},
   "outputs": [],
   "source": []
  }
 ],
 "metadata": {
  "kernelspec": {
   "display_name": "Python 3",
   "language": "python",
   "name": "python3"
  },
  "language_info": {
   "codemirror_mode": {
    "name": "ipython",
    "version": 3
   },
   "file_extension": ".py",
   "mimetype": "text/x-python",
   "name": "python",
   "nbconvert_exporter": "python",
   "pygments_lexer": "ipython3",
   "version": "3.7.6"
  }
 },
 "nbformat": 4,
 "nbformat_minor": 4
}
