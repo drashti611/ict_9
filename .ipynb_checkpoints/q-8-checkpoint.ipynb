{
 "cells": [
  {
   "cell_type": "code",
   "execution_count": 3,
   "metadata": {},
   "outputs": [
    {
     "name": "stdout",
     "output_type": "stream",
     "text": [
      "Element Count Dictionary: {10: 3, 20: 2, 30: 1, 40: 1}\n",
      "element count dictionary: {10: 3, 20: 2, 30: 1, 40: 1}\n"
     ]
    }
   ],
   "source": [
    "def countElements(inputList):\n",
    "    countDict = {}\n",
    "    for item in inputList:\n",
    "        if item in countDict:\n",
    "            countDict[item] += 1\n",
    "        else:\n",
    "            countDict[item] = 1\n",
    "    return countDict\n",
    "\n",
    "my_list = [10, 20, 10, 30, 20, 40, 10]\n",
    "result = countElements(my_list)\n",
    "print(\"Element Count Dictionary:\", result)\n",
    "\n",
    "#2nd Method\n",
    "from collections import Counter\n",
    "my_list=[10, 20, 10, 30, 20, 40, 10]\n",
    "result=dict(Counter(my_list))\n",
    "print(\"element count dictionary:\",result)"
   ]
  },
  {
   "cell_type": "code",
   "execution_count": null,
   "metadata": {},
   "outputs": [],
   "source": []
  }
 ],
 "metadata": {
  "kernelspec": {
   "display_name": "Python 3",
   "language": "python",
   "name": "python3"
  },
  "language_info": {
   "codemirror_mode": {
    "name": "ipython",
    "version": 3
   },
   "file_extension": ".py",
   "mimetype": "text/x-python",
   "name": "python",
   "nbconvert_exporter": "python",
   "pygments_lexer": "ipython3",
   "version": "3.7.6"
  }
 },
 "nbformat": 4,
 "nbformat_minor": 4
}
