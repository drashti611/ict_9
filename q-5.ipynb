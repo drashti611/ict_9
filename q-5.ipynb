{
 "cells": [
  {
   "cell_type": "code",
   "execution_count": 1,
   "metadata": {},
   "outputs": [
    {
     "name": "stdout",
     "output_type": "stream",
     "text": [
      "Merged List is:  [20, 40, 60, 10, 30, 50]\n"
     ]
    }
   ],
   "source": [
    "def mergeList(list1,list2):\n",
    "    oddElement=list1[1::2]\n",
    "    evenElement=list1[::2]\n",
    "    return oddElement+evenElement\n",
    "list1=[10,20,30,40,50,60]\n",
    "list2=[70,80,90,100,110,120]\n",
    "result=mergeList(list1,list2)\n",
    "print(\"Merged List is: \",result)"
   ]
  },
  {
   "cell_type": "code",
   "execution_count": null,
   "metadata": {},
   "outputs": [],
   "source": []
  }
 ],
 "metadata": {
  "kernelspec": {
   "display_name": "Python 3",
   "language": "python",
   "name": "python3"
  },
  "language_info": {
   "codemirror_mode": {
    "name": "ipython",
    "version": 3
   },
   "file_extension": ".py",
   "mimetype": "text/x-python",
   "name": "python",
   "nbconvert_exporter": "python",
   "pygments_lexer": "ipython3",
   "version": "3.7.6"
  }
 },
 "nbformat": 4,
 "nbformat_minor": 4
}
