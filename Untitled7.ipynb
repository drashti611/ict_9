{
 "cells": [
  {
   "cell_type": "code",
   "execution_count": null,
   "metadata": {},
   "outputs": [],
   "source": [
    "def countElements(inputList):\n",
    "    countDict={}\n",
    "    for item in countDict:\n",
    "        if item in countDict:\n",
    "            countdict[item]+=1\n",
    "        else:\n",
    "            countDict[item]=1\n",
    "    return countDict\n",
    "my_list=[10,20,30,10,30,20]\n",
    "result=countElements(my_list)\n",
    "print(\"Element Count Dictionary:\",result)\n",
    "\n",
    "#2nd Method\n",
    "from collections import Counter\n",
    "my_list=[10,20,10,20,30,20,40,10]\n",
    "result=dic"
   ]
  }
 ],
 "metadata": {
  "kernelspec": {
   "display_name": "Python 3",
   "language": "python",
   "name": "python3"
  },
  "language_info": {
   "codemirror_mode": {
    "name": "ipython",
    "version": 3
   },
   "file_extension": ".py",
   "mimetype": "text/x-python",
   "name": "python",
   "nbconvert_exporter": "python",
   "pygments_lexer": "ipython3",
   "version": "3.7.6"
  }
 },
 "nbformat": 4,
 "nbformat_minor": 4
}
