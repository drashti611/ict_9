{
 "cells": [
  {
   "cell_type": "code",
   "execution_count": 3,
   "metadata": {},
   "outputs": [
    {
     "name": "stdout",
     "output_type": "stream",
     "text": [
      "Current Number Previous Number Total Sum\n",
      "0               0                 0\n",
      "1               0                 1\n",
      "2               1                 3\n",
      "3               2                 5\n",
      "4               3                 7\n",
      "5               4                 9\n",
      "6               5                 11\n",
      "7               6                 13\n",
      "8               7                 15\n",
      "9               8                 17\n"
     ]
    }
   ],
   "source": [
    "prev_num=0\n",
    "print(\"Current Number Previous Number Total Sum\")\n",
    "for current_num in range(10):\n",
    "    total=current_num + prev_num\n",
    "    print(f\"{current_num:<16}{prev_num:<18}{total}\")\n",
    "    prev_num=current_num"
   ]
  },
  {
   "cell_type": "code",
   "execution_count": null,
   "metadata": {},
   "outputs": [],
   "source": []
  },
  {
   "cell_type": "code",
   "execution_count": null,
   "metadata": {},
   "outputs": [],
   "source": []
  },
  {
   "cell_type": "code",
   "execution_count": null,
   "metadata": {},
   "outputs": [],
   "source": []
  }
 ],
 "metadata": {
  "kernelspec": {
   "display_name": "Python 3",
   "language": "python",
   "name": "python3"
  },
  "language_info": {
   "codemirror_mode": {
    "name": "ipython",
    "version": 3
   },
   "file_extension": ".py",
   "mimetype": "text/x-python",
   "name": "python",
   "nbconvert_exporter": "python",
   "pygments_lexer": "ipython3",
   "version": "3.7.6"
  }
 },
 "nbformat": 4,
 "nbformat_minor": 4
}
